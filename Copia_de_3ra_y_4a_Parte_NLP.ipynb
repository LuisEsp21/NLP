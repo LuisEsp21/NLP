{
  "nbformat": 4,
  "nbformat_minor": 0,
  "metadata": {
    "colab": {
      "provenance": []
    },
    "kernelspec": {
      "name": "python3",
      "display_name": "Python 3"
    },
    "language_info": {
      "name": "python"
    },
    "accelerator": "TPU"
  },
  "cells": [
    {
      "cell_type": "markdown",
      "source": [
        "Importamos librerías, y subimos el archivo data_process.csv"
      ],
      "metadata": {
        "id": "XK0ONZYF23bV"
      }
    },
    {
      "cell_type": "code",
      "source": [
        "!pip install nltk\n",
        "\n",
        "import random\n",
        "import numpy as np\n",
        "import pandas as pd\n",
        "\n",
        "from sklearn.model_selection import train_test_split # Modelado\n",
        "from sklearn.pipeline import Pipeline # Modelado\n",
        "from sklearn.feature_extraction.text import CountVectorizer, TfidfVectorizer # Modelado\n",
        "from sklearn.feature_selection import chi2 # Reporte\n",
        "from sklearn.linear_model import LogisticRegression # Reporte\n",
        "from sklearn.metrics import accuracy_score, confusion_matrix, classification_report, roc_curve, precision_recall_curve # Reporte\n",
        "\n",
        "import matplotlib.pyplot as plt"
      ],
      "metadata": {
        "id": "qrBBsWEevg4k",
        "colab": {
          "base_uri": "https://localhost:8080/"
        },
        "outputId": "d257ce41-0f0e-44b5-ffa0-f5d265331797"
      },
      "execution_count": 1,
      "outputs": [
        {
          "output_type": "stream",
          "name": "stdout",
          "text": [
            "Requirement already satisfied: nltk in /usr/local/lib/python3.10/dist-packages (3.8.1)\n",
            "Requirement already satisfied: click in /usr/local/lib/python3.10/dist-packages (from nltk) (8.1.7)\n",
            "Requirement already satisfied: joblib in /usr/local/lib/python3.10/dist-packages (from nltk) (1.3.2)\n",
            "Requirement already satisfied: regex>=2021.8.3 in /usr/local/lib/python3.10/dist-packages (from nltk) (2023.6.3)\n",
            "Requirement already satisfied: tqdm in /usr/local/lib/python3.10/dist-packages (from nltk) (4.66.1)\n"
          ]
        }
      ]
    },
    {
      "cell_type": "markdown",
      "source": [
        "Cargo los datos"
      ],
      "metadata": {
        "id": "_H_T23dQ_5Kw"
      }
    },
    {
      "cell_type": "code",
      "source": [
        "df = pd.read_csv('data_prepocess.csv')\n",
        "df.shape"
      ],
      "metadata": {
        "colab": {
          "base_uri": "https://localhost:8080/"
        },
        "id": "HgACv4wcvP1f",
        "outputId": "9d5f97a6-6698-4f54-96c5-e29f5c77126f"
      },
      "execution_count": 2,
      "outputs": [
        {
          "output_type": "execute_result",
          "data": {
            "text/plain": [
              "(5000, 9)"
            ]
          },
          "metadata": {},
          "execution_count": 2
        }
      ]
    },
    {
      "cell_type": "markdown",
      "source": [
        "Reemplazo los \"na\" por espaios en blanco para asegurarme que no haya valores nulos"
      ],
      "metadata": {
        "id": "TyqtJo8l3Y8O"
      }
    },
    {
      "cell_type": "code",
      "source": [
        "df['texto_limpio'].fillna('', inplace=True)"
      ],
      "metadata": {
        "id": "6w_qVaEuFwNG"
      },
      "execution_count": 3,
      "outputs": []
    },
    {
      "cell_type": "markdown",
      "source": [
        "Separo los datos en train y test al 75% y 25% respectivamente"
      ],
      "metadata": {
        "id": "rIMDAnMp5bbS"
      }
    },
    {
      "cell_type": "code",
      "execution_count": 4,
      "metadata": {
        "id": "7DqlHTBbuTSm"
      },
      "outputs": [],
      "source": [
        "X_train, X_test, y_train, y_test = train_test_split(\n",
        "    df['texto_limpio'],\n",
        "    df['sentiment_label'],\n",
        "    train_size=0.75,\n",
        "    test_size=0.25,\n",
        "    random_state=42,\n",
        "    shuffle=True\n",
        ")"
      ]
    },
    {
      "cell_type": "code",
      "source": [
        "X_train.iloc[:10]"
      ],
      "metadata": {
        "colab": {
          "base_uri": "https://localhost:8080/"
        },
        "id": "ws80owTxwtvr",
        "outputId": "80e5852e-6057-43b2-b6de-445d99a49ced"
      },
      "execution_count": 5,
      "outputs": [
        {
          "output_type": "execute_result",
          "data": {
            "text/plain": [
              "4884     very cute way give appreciated gift niece nephew\n",
              "3163                         well described sent received\n",
              "490     i called customer service gift card box presen...\n",
              "862     i america nowtherefore buy ebooks via gift car...\n",
              "1740    promotion buy fifty gift card receive fifteen ...\n",
              "4099    perfect birthday anniversary wedding baby show...\n",
              "4385                                  very easy customise\n",
              "2447                           wish email delivery option\n",
              "4230    i always reluctant online gift card option als...\n",
              "506         maybe worst looking gift card i ever received\n",
              "Name: texto_limpio, dtype: object"
            ]
          },
          "metadata": {},
          "execution_count": 5
        }
      ]
    },
    {
      "cell_type": "code",
      "source": [
        "y_train.iloc[:10]"
      ],
      "metadata": {
        "colab": {
          "base_uri": "https://localhost:8080/"
        },
        "id": "9kovLklEwvGf",
        "outputId": "d15675a4-8444-407c-95e7-7b0df24b78d7"
      },
      "execution_count": 6,
      "outputs": [
        {
          "output_type": "execute_result",
          "data": {
            "text/plain": [
              "4884    0\n",
              "3163    0\n",
              "490     1\n",
              "862     1\n",
              "1740    1\n",
              "4099    0\n",
              "4385    0\n",
              "2447    0\n",
              "4230    0\n",
              "506     1\n",
              "Name: sentiment_label, dtype: int64"
            ]
          },
          "metadata": {},
          "execution_count": 6
        }
      ]
    },
    {
      "cell_type": "markdown",
      "source": [
        "Realizo la extracción de características con un Tfidf, limitando a un máximo de 2500"
      ],
      "metadata": {
        "id": "1Pmz-KTZ5rms"
      }
    },
    {
      "cell_type": "code",
      "source": [
        "cv = TfidfVectorizer(\n",
        "    max_df=0.95,\n",
        "    min_df=3,\n",
        "    max_features=2500,\n",
        "    strip_accents='ascii',\n",
        "    ngram_range=(1, 1)\n",
        ")\n",
        "cv.fit(X_train)"
      ],
      "metadata": {
        "colab": {
          "base_uri": "https://localhost:8080/",
          "height": 74
        },
        "id": "UU4i8eOswyyS",
        "outputId": "c5bb7930-dfbb-45a6-a831-a8b9a34b903b"
      },
      "execution_count": 7,
      "outputs": [
        {
          "output_type": "execute_result",
          "data": {
            "text/plain": [
              "TfidfVectorizer(max_df=0.95, max_features=2500, min_df=3, strip_accents='ascii')"
            ],
            "text/html": [
              "<style>#sk-container-id-1 {color: black;background-color: white;}#sk-container-id-1 pre{padding: 0;}#sk-container-id-1 div.sk-toggleable {background-color: white;}#sk-container-id-1 label.sk-toggleable__label {cursor: pointer;display: block;width: 100%;margin-bottom: 0;padding: 0.3em;box-sizing: border-box;text-align: center;}#sk-container-id-1 label.sk-toggleable__label-arrow:before {content: \"▸\";float: left;margin-right: 0.25em;color: #696969;}#sk-container-id-1 label.sk-toggleable__label-arrow:hover:before {color: black;}#sk-container-id-1 div.sk-estimator:hover label.sk-toggleable__label-arrow:before {color: black;}#sk-container-id-1 div.sk-toggleable__content {max-height: 0;max-width: 0;overflow: hidden;text-align: left;background-color: #f0f8ff;}#sk-container-id-1 div.sk-toggleable__content pre {margin: 0.2em;color: black;border-radius: 0.25em;background-color: #f0f8ff;}#sk-container-id-1 input.sk-toggleable__control:checked~div.sk-toggleable__content {max-height: 200px;max-width: 100%;overflow: auto;}#sk-container-id-1 input.sk-toggleable__control:checked~label.sk-toggleable__label-arrow:before {content: \"▾\";}#sk-container-id-1 div.sk-estimator input.sk-toggleable__control:checked~label.sk-toggleable__label {background-color: #d4ebff;}#sk-container-id-1 div.sk-label input.sk-toggleable__control:checked~label.sk-toggleable__label {background-color: #d4ebff;}#sk-container-id-1 input.sk-hidden--visually {border: 0;clip: rect(1px 1px 1px 1px);clip: rect(1px, 1px, 1px, 1px);height: 1px;margin: -1px;overflow: hidden;padding: 0;position: absolute;width: 1px;}#sk-container-id-1 div.sk-estimator {font-family: monospace;background-color: #f0f8ff;border: 1px dotted black;border-radius: 0.25em;box-sizing: border-box;margin-bottom: 0.5em;}#sk-container-id-1 div.sk-estimator:hover {background-color: #d4ebff;}#sk-container-id-1 div.sk-parallel-item::after {content: \"\";width: 100%;border-bottom: 1px solid gray;flex-grow: 1;}#sk-container-id-1 div.sk-label:hover label.sk-toggleable__label {background-color: #d4ebff;}#sk-container-id-1 div.sk-serial::before {content: \"\";position: absolute;border-left: 1px solid gray;box-sizing: border-box;top: 0;bottom: 0;left: 50%;z-index: 0;}#sk-container-id-1 div.sk-serial {display: flex;flex-direction: column;align-items: center;background-color: white;padding-right: 0.2em;padding-left: 0.2em;position: relative;}#sk-container-id-1 div.sk-item {position: relative;z-index: 1;}#sk-container-id-1 div.sk-parallel {display: flex;align-items: stretch;justify-content: center;background-color: white;position: relative;}#sk-container-id-1 div.sk-item::before, #sk-container-id-1 div.sk-parallel-item::before {content: \"\";position: absolute;border-left: 1px solid gray;box-sizing: border-box;top: 0;bottom: 0;left: 50%;z-index: -1;}#sk-container-id-1 div.sk-parallel-item {display: flex;flex-direction: column;z-index: 1;position: relative;background-color: white;}#sk-container-id-1 div.sk-parallel-item:first-child::after {align-self: flex-end;width: 50%;}#sk-container-id-1 div.sk-parallel-item:last-child::after {align-self: flex-start;width: 50%;}#sk-container-id-1 div.sk-parallel-item:only-child::after {width: 0;}#sk-container-id-1 div.sk-dashed-wrapped {border: 1px dashed gray;margin: 0 0.4em 0.5em 0.4em;box-sizing: border-box;padding-bottom: 0.4em;background-color: white;}#sk-container-id-1 div.sk-label label {font-family: monospace;font-weight: bold;display: inline-block;line-height: 1.2em;}#sk-container-id-1 div.sk-label-container {text-align: center;}#sk-container-id-1 div.sk-container {/* jupyter's `normalize.less` sets `[hidden] { display: none; }` but bootstrap.min.css set `[hidden] { display: none !important; }` so we also need the `!important` here to be able to override the default hidden behavior on the sphinx rendered scikit-learn.org. See: https://github.com/scikit-learn/scikit-learn/issues/21755 */display: inline-block !important;position: relative;}#sk-container-id-1 div.sk-text-repr-fallback {display: none;}</style><div id=\"sk-container-id-1\" class=\"sk-top-container\"><div class=\"sk-text-repr-fallback\"><pre>TfidfVectorizer(max_df=0.95, max_features=2500, min_df=3, strip_accents=&#x27;ascii&#x27;)</pre><b>In a Jupyter environment, please rerun this cell to show the HTML representation or trust the notebook. <br />On GitHub, the HTML representation is unable to render, please try loading this page with nbviewer.org.</b></div><div class=\"sk-container\" hidden><div class=\"sk-item\"><div class=\"sk-estimator sk-toggleable\"><input class=\"sk-toggleable__control sk-hidden--visually\" id=\"sk-estimator-id-1\" type=\"checkbox\" checked><label for=\"sk-estimator-id-1\" class=\"sk-toggleable__label sk-toggleable__label-arrow\">TfidfVectorizer</label><div class=\"sk-toggleable__content\"><pre>TfidfVectorizer(max_df=0.95, max_features=2500, min_df=3, strip_accents=&#x27;ascii&#x27;)</pre></div></div></div></div></div>"
            ]
          },
          "metadata": {},
          "execution_count": 7
        }
      ]
    },
    {
      "cell_type": "markdown",
      "source": [
        "Realizo una comprobación del vocabulario y del la longitud de este"
      ],
      "metadata": {
        "id": "sWm6RpvR6FqA"
      }
    },
    {
      "cell_type": "code",
      "source": [
        "print(list(cv.vocabulary_.items())[:20])"
      ],
      "metadata": {
        "colab": {
          "base_uri": "https://localhost:8080/"
        },
        "id": "dpVXrpnWF58z",
        "outputId": "e7ffcca7-2fd1-4062-f502-4ada1b991714"
      },
      "execution_count": 8,
      "outputs": [
        {
          "output_type": "stream",
          "name": "stdout",
          "text": [
            "[('very', 1925), ('cute', 429), ('way', 1954), ('give', 762), ('appreciated', 112), ('gift', 754), ('niece', 1161), ('nephew', 1151), ('well', 1965), ('described', 473), ('sent', 1569), ('received', 1413), ('called', 257), ('customer', 426), ('service', 1577), ('card', 271), ('box', 223), ('presentable', 1331), ('unfortunately', 1885), ('cant', 268)]\n"
          ]
        }
      ]
    },
    {
      "cell_type": "code",
      "source": [
        "print(len(cv.vocabulary_))"
      ],
      "metadata": {
        "colab": {
          "base_uri": "https://localhost:8080/"
        },
        "id": "ccqS_K0NGAxA",
        "outputId": "34e0020f-94da-42d4-9d1a-d3d94c930f93"
      },
      "execution_count": 9,
      "outputs": [
        {
          "output_type": "stream",
          "name": "stdout",
          "text": [
            "2038\n"
          ]
        }
      ]
    },
    {
      "cell_type": "markdown",
      "source": [
        "Convierto el texto en vectores"
      ],
      "metadata": {
        "id": "CNDljSPu6c0r"
      }
    },
    {
      "cell_type": "code",
      "source": [
        "X_train_ = cv.transform(X_train)\n",
        "X_test_ = cv.transform(X_test)"
      ],
      "metadata": {
        "id": "XVaBt9iFGE0A"
      },
      "execution_count": 10,
      "outputs": []
    },
    {
      "cell_type": "markdown",
      "source": [
        "Verifico la etiqueta del sentimiento"
      ],
      "metadata": {
        "id": "9KhW4iDh6pPt"
      }
    },
    {
      "cell_type": "code",
      "source": [
        "i = random.randint(0, len(X_train))\n",
        "print('ID: {}'.format(i))\n",
        "print('Sentiment: {}'.format(y_train.iloc[i]))\n",
        "print('Review: {}'.format(X_train.iloc[i]))"
      ],
      "metadata": {
        "colab": {
          "base_uri": "https://localhost:8080/"
        },
        "id": "c8DFjVWNGRcb",
        "outputId": "825d1006-1e09-4597-c246-d9b8334061cf"
      },
      "execution_count": 11,
      "outputs": [
        {
          "output_type": "stream",
          "name": "stdout",
          "text": [
            "ID: 338\n",
            "Sentiment: 0\n",
            "Review: i needed send gift card dozen client reward completing survey amazon system convenient it allowed enter multiple recipient time i liked i would send chunk one five recipient pace reward earned several week the downside session adding one five recipient i basically start scratch uploading sizing custom image logo retype paragraph text thankyou message wanted send card this product would better one could save uploaded customized version gift card template this would saved lot time\n"
          ]
        }
      ]
    },
    {
      "cell_type": "markdown",
      "source": [
        "Ignoro las advertencias para ver más limpio el resultado del entrenamiento, ya que por una actualización lanza muchos avisos entre los distintos accuracy"
      ],
      "metadata": {
        "id": "hzBEJ6wQ6udI"
      }
    },
    {
      "cell_type": "code",
      "source": [
        "import warnings\n",
        "warnings.filterwarnings('ignore')"
      ],
      "metadata": {
        "id": "rI0F2T5gY7jf"
      },
      "execution_count": 12,
      "outputs": []
    },
    {
      "cell_type": "markdown",
      "source": [
        "Paso al entrenamiento de un modelo de Regresión Logística con diferentes parámetros"
      ],
      "metadata": {
        "id": "4ak5tS9u69lg"
      }
    },
    {
      "cell_type": "code",
      "source": [
        "c_params = [0.01, 0.2, 0.5, 0.8, 1, 1.2, 1.5, 1.8, 100, 1000]\n",
        "\n",
        "\n",
        "train_acc = list()\n",
        "test_acc = list()\n",
        "for c in c_params:\n",
        "    lr = LogisticRegression(C=c, solver='lbfgs', max_iter=500)\n",
        "    lr.fit(X_train_, y_train)\n",
        "\n",
        "    train_predict = lr.predict(X_train_)\n",
        "    test_predict = lr.predict(X_test_)\n",
        "\n",
        "    print (\"Accuracy for C={}: {}\".format(c, accuracy_score(y_test, test_predict)))\n",
        "\n",
        "    train_acc.append(accuracy_score(y_train, train_predict))\n",
        "    test_acc.append(accuracy_score(y_test, test_predict))"
      ],
      "metadata": {
        "colab": {
          "base_uri": "https://localhost:8080/"
        },
        "id": "GBKNdktqG2gH",
        "outputId": "a633d064-bba7-40af-ab2d-0418a551966c"
      },
      "execution_count": 13,
      "outputs": [
        {
          "output_type": "stream",
          "name": "stdout",
          "text": [
            "Accuracy for C=0.01: 0.5936\n",
            "Accuracy for C=0.2: 0.7504\n",
            "Accuracy for C=0.5: 0.7768\n",
            "Accuracy for C=0.8: 0.7832\n",
            "Accuracy for C=1: 0.7864\n",
            "Accuracy for C=1.2: 0.7872\n",
            "Accuracy for C=1.5: 0.7848\n",
            "Accuracy for C=1.8: 0.7848\n",
            "Accuracy for C=100: 0.7296\n",
            "Accuracy for C=1000: 0.716\n"
          ]
        }
      ]
    },
    {
      "cell_type": "code",
      "source": [
        "optimal_C = 1.2\n",
        "\n",
        "lr = LogisticRegression(C=optimal_C, solver='lbfgs', max_iter=500)\n",
        "lr.fit(X_train_, y_train)\n",
        "\n",
        "train_predict = lr.predict(X_train_)\n",
        "test_predict = lr.predict(X_test_)\n",
        "\n",
        "print (\"Accuracy for C={}: {}\".format(c, accuracy_score(y_test, test_predict)))\n",
        "\n",
        "train_acc.append(accuracy_score(y_train, train_predict))\n",
        "test_acc.append(accuracy_score(y_test, test_predict))"
      ],
      "metadata": {
        "colab": {
          "base_uri": "https://localhost:8080/"
        },
        "id": "nQgCG31jEUxy",
        "outputId": "910de410-e223-4deb-94b0-0cb6127eb750"
      },
      "execution_count": 16,
      "outputs": [
        {
          "output_type": "stream",
          "name": "stdout",
          "text": [
            "Accuracy for C=1000: 0.7872\n"
          ]
        }
      ]
    },
    {
      "cell_type": "markdown",
      "source": [
        "Obtengo la matriz de confusión para ver las diferentes métricas del modelo"
      ],
      "metadata": {
        "id": "PXMI_CujAAdS"
      }
    },
    {
      "cell_type": "code",
      "source": [
        "print('Confussion matrix:\\n{}'.format(confusion_matrix(y_test, test_predict)))\n",
        "print('\\nClassification report:\\n{}'.format(classification_report(y_test, test_predict)))\n",
        "print('Accuracy score:{}'.format(accuracy_score(y_test, test_predict)))"
      ],
      "metadata": {
        "colab": {
          "base_uri": "https://localhost:8080/"
        },
        "id": "k1ESIaYo-VpZ",
        "outputId": "8336acd0-d5cb-4533-97d2-cc23571fdeee"
      },
      "execution_count": 17,
      "outputs": [
        {
          "output_type": "stream",
          "name": "stdout",
          "text": [
            "Confussion matrix:\n",
            "[[637 105]\n",
            " [161 347]]\n",
            "\n",
            "Classification report:\n",
            "              precision    recall  f1-score   support\n",
            "\n",
            "           0       0.80      0.86      0.83       742\n",
            "           1       0.77      0.68      0.72       508\n",
            "\n",
            "    accuracy                           0.79      1250\n",
            "   macro avg       0.78      0.77      0.78      1250\n",
            "weighted avg       0.79      0.79      0.78      1250\n",
            "\n",
            "Accuracy score:0.7872\n"
          ]
        }
      ]
    },
    {
      "cell_type": "markdown",
      "source": [
        "Observo la evolución del modelo conforme varía el valor de C, observando que mejora hasta que llega un nivel en el que se desploma el accuracy de test"
      ],
      "metadata": {
        "id": "FXb4dNB7AT_L"
      }
    },
    {
      "cell_type": "code",
      "source": [
        "plt.figure(figsize=(12, 8))\n",
        "plt.plot(train_acc, label='train')\n",
        "plt.plot(test_acc, label='test')\n",
        "plt.axvline(np.argmax(test_acc), c='g', ls='--', alpha=0.8)\n",
        "plt.title('Accuracy evolution for different C values')\n",
        "plt.xlabel('C')\n",
        "plt.ylabel('Accuracy')\n",
        "plt.legend()\n",
        "plt.grid()\n",
        "plt.xticks(list(range(len(c_params))), c_params)\n",
        "plt.tight_layout()\n",
        "plt.show()"
      ],
      "metadata": {
        "colab": {
          "base_uri": "https://localhost:8080/",
          "height": 807
        },
        "id": "KpLMZIGd92nh",
        "outputId": "ae9e9386-e835-4849-871d-877e6338e207"
      },
      "execution_count": 18,
      "outputs": [
        {
          "output_type": "display_data",
          "data": {
            "text/plain": [
              "<Figure size 1200x800 with 1 Axes>"
            ],
            "image/png": "[encoded data removed]"
          },
          "metadata": {}
        }
      ]
    },
    {
      "cell_type": "markdown",
      "source": [
        "Otra métrica que puedo analizar es ver la evolución de las puntuaciones de precisión y sensibilidad confome varía el umbral de decisión, en este caso puedo concluir por la gráfica que las predicciones del modelo son altamente precisas cuando predice un positivo"
      ],
      "metadata": {
        "id": "k2UHASS3BJhK"
      }
    },
    {
      "cell_type": "code",
      "source": [
        "p, r, thresholds = precision_recall_curve(y_test, test_predict)"
      ],
      "metadata": {
        "id": "90RzNgA_957w"
      },
      "execution_count": 19,
      "outputs": []
    },
    {
      "cell_type": "code",
      "source": [
        "def plot_precision_recall_vs_threshold(precisions, recalls, thresholds):\n",
        "    plt.figure(figsize=(8, 8))\n",
        "    plt.title(\"Precision and Recall Scores as a function of the decision threshold\")\n",
        "    plt.plot(thresholds, precisions[:-1], \"b--\", label=\"Precision\")\n",
        "    plt.plot(thresholds, recalls[:-1], \"g-\", label=\"Recall\")\n",
        "    plt.ylabel(\"Score\")\n",
        "    plt.xlabel(\"Decision Threshold\")\n",
        "    plt.legend(loc='best')"
      ],
      "metadata": {
        "id": "wLeRJTLu99JT"
      },
      "execution_count": 20,
      "outputs": []
    },
    {
      "cell_type": "code",
      "source": [
        "plot_precision_recall_vs_threshold(p, r, thresholds)"
      ],
      "metadata": {
        "colab": {
          "base_uri": "https://localhost:8080/",
          "height": 718
        },
        "id": "JBlkh9_l_Mff",
        "outputId": "dcc0a5ab-aaa6-400b-c16b-556ee52e6cae"
      },
      "execution_count": 21,
      "outputs": [
        {
          "output_type": "display_data",
          "data": {
            "text/plain": [
              "<Figure size 800x800 with 1 Axes>"
            ],
            "image/png": "[encoded data removed]"
          },
          "metadata": {}
        }
      ]
    },
    {
      "cell_type": "markdown",
      "source": [
        "Ahora preparo otro modelo con XGBoost para comparar los resultados\n"
      ],
      "metadata": {
        "id": "kOIB0nKKZF02"
      }
    },
    {
      "cell_type": "code",
      "source": [
        "from xgboost import XGBClassifier\n",
        "\n",
        "# Creo las características usando TF-IDF\n",
        "tfidf_vectorizer = TfidfVectorizer(max_features=5000)\n",
        "X = tfidf_vectorizer.fit_transform(df['texto_limpio'])\n",
        "y = df['sentiment_label']  # Columna con etiquetas de sentimiento (0 o 1)\n",
        "\n",
        "# Divido de los datos en conjunto de entrenamiento y prueba\n",
        "X_train, X_test, y_train, y_test = train_test_split(X, y, test_size=0.2, random_state=42)\n",
        "\n",
        "# Entreno el modelo XGBoost\n",
        "xgb_model = XGBClassifier()\n",
        "xgb_model.fit(X_train, y_train)\n",
        "\n",
        "# Realizo predicciones en el conjunto de prueba\n",
        "y_pred = xgb_model.predict(X_test)\n",
        "\n",
        "# Evaluo el rendimiento del modelo\n",
        "print(classification_report(y_test, y_pred))\n",
        "print(\"Accuracy:\", accuracy_score(y_test, y_pred))"
      ],
      "metadata": {
        "colab": {
          "base_uri": "https://localhost:8080/"
        },
        "id": "nS44huZjh0hl",
        "outputId": "bf5aade9-7485-447d-b5b9-846ffd66934d"
      },
      "execution_count": 22,
      "outputs": [
        {
          "output_type": "stream",
          "name": "stdout",
          "text": [
            "              precision    recall  f1-score   support\n",
            "\n",
            "           0       0.78      0.85      0.81       594\n",
            "           1       0.75      0.66      0.70       406\n",
            "\n",
            "    accuracy                           0.77      1000\n",
            "   macro avg       0.76      0.75      0.76      1000\n",
            "weighted avg       0.77      0.77      0.77      1000\n",
            "\n",
            "Accuracy: 0.77\n"
          ]
        }
      ]
    },
    {
      "cell_type": "markdown",
      "source": [
        "como veo que el resultado es inferios al de regresión logistica y este lo había entrenado con diferentes hiperparámetros, paso a hacer una optimización de hiperparámetros en el modelo XGBoost"
      ],
      "metadata": {
        "id": "bvv_HukE7q3Z"
      }
    },
    {
      "cell_type": "code",
      "source": [
        "from sklearn.model_selection import train_test_split, GridSearchCV\n",
        "\n",
        "param_grid = {\n",
        "    'n_estimators': [100, 200],\n",
        "    'max_depth': [3, 4],\n",
        "    'learning_rate': [0.01, 1, 1.2]\n",
        "}\n",
        "\n",
        "# Realizo la búsqueda en cuadrícula\n",
        "grid_search = GridSearchCV(xgb_model, param_grid, cv=3, n_jobs=-1)\n",
        "grid_search.fit(X_train, y_train)\n",
        "\n",
        "# Obtengo los mejores hiperparámetros\n",
        "best_params = grid_search.best_params_\n",
        "\n",
        "# Entreno el modelo con los mejores hiperparámetros\n",
        "best_xgb_model = XGBClassifier(**best_params)\n",
        "best_xgb_model.fit(X_train, y_train)\n",
        "\n",
        "# Realizo predicciones en el conjunto de prueba\n",
        "y_pred = best_xgb_model.predict(X_test)\n",
        "\n",
        "# Evaluo el rendimiento del modelo\n",
        "print(classification_report(y_test, y_pred))\n",
        "print(\"Accuracy:\", accuracy_score(y_test, y_pred))"
      ],
      "metadata": {
        "colab": {
          "base_uri": "https://localhost:8080/"
        },
        "id": "BgC8BLMtjC6d",
        "outputId": "85e39894-c861-487c-b879-dc918add62d9"
      },
      "execution_count": 23,
      "outputs": [
        {
          "output_type": "stream",
          "name": "stdout",
          "text": [
            "              precision    recall  f1-score   support\n",
            "\n",
            "           0       0.78      0.83      0.80       594\n",
            "           1       0.73      0.66      0.69       406\n",
            "\n",
            "    accuracy                           0.76      1000\n",
            "   macro avg       0.75      0.74      0.75      1000\n",
            "weighted avg       0.76      0.76      0.76      1000\n",
            "\n",
            "Accuracy: 0.76\n"
          ]
        }
      ]
    },
    {
      "cell_type": "markdown",
      "source": [
        "Paso a exportar los modelos entrenados para poder utilizarlos a futuro"
      ],
      "metadata": {
        "id": "mINweltl8nCw"
      }
    },
    {
      "cell_type": "code",
      "source": [
        "import joblib\n",
        "\n",
        "modelo_entrenado =  xgb_model\n",
        "\n",
        "joblib.dump(modelo_entrenado, 'modelo_entrenado.pkl')\n",
        "\n",
        "modelo_entrenado_opt =best_xgb_model\n",
        "\n",
        "joblib.dump(modelo_entrenado_opt, 'modelo_entrenado_opt.pkl')"
      ],
      "metadata": {
        "colab": {
          "base_uri": "https://localhost:8080/"
        },
        "id": "uRYQo7p_mo-2",
        "outputId": "5924a33e-1363-4bc5-bda6-4a66c1f57a67"
      },
      "execution_count": 24,
      "outputs": [
        {
          "output_type": "execute_result",
          "data": {
            "text/plain": [
              "['modelo_entrenado_opt.pkl']"
            ]
          },
          "metadata": {},
          "execution_count": 24
        }
      ]
    },
    {
      "cell_type": "markdown",
      "source": [
        "Lo mismo con el modelo de regresión logistica"
      ],
      "metadata": {
        "id": "GQww6QOn88YS"
      }
    },
    {
      "cell_type": "code",
      "source": [
        "modelo_entrenado_lr =  lr\n",
        "\n",
        "joblib.dump(modelo_entrenado_lr, 'modelo_entrenado_lr.pkl')"
      ],
      "metadata": {
        "colab": {
          "base_uri": "https://localhost:8080/"
        },
        "id": "aHpa73odnE6S",
        "outputId": "b735c874-755a-4329-c79d-8b8f8e8edc75"
      },
      "execution_count": 25,
      "outputs": [
        {
          "output_type": "execute_result",
          "data": {
            "text/plain": [
              "['modelo_entrenado_lr.pkl']"
            ]
          },
          "metadata": {},
          "execution_count": 25
        }
      ]
    },
    {
      "cell_type": "markdown",
      "source": [
        "CONCLUSIONES FINALES"
      ],
      "metadata": {
        "id": "ivFinPXlC7Q7"
      }
    },
    {
      "cell_type": "markdown",
      "source": [
        " Puedo observar que ofrece un mejor accuracy y f1-score el modelo de regresión logística que el de XGBoost. Y creo que tiene sentido en base a los datos, ya que el modelo de regresión logística ofrece mejores resultados con conjuntos de datos pequeños y balanceados, que es el caso, tenemos pocos datos y los he balanceado forzosamente por tanto las ventajas que podría ofrecer un XGBoost tanto en mejora de rendimiento, trato de datos desbalanceados, flexibilidad y regularización en este caso no suponen una ventaja.\n",
        "\n",
        " Observando las métricas del modelo de regresión logística, veo que validan la bondad del modelo ya con consigue unos valores razonablemente buenos. La evolución de las puntuaciones de precisión y sensibilidad confome varía el umbral de decisión muestra que el modelo es bastante preciso al predecir una valoración positiva, la evolución de la precisión confome aumento C me hace pensar que el modelo aprende correctamente hasta llegar al valor 1.8 donde creo que puede tener problemas de overfitting.  \n",
        "\n",
        " Con algo más de tiempo me habría gustado realizar un balaceado de datos más complejo y habría aplicado algún modelo de deeplearning, creo que el uso de una red neuronal habría mejorado la capacidad del modelo, y con más tiempo y recursos me gustaría aplicarlo a un conjunto de datos más compejos y ver los resultados."
      ],
      "metadata": {
        "id": "vcCHB42D_JTX"
      }
    }
  ]
}